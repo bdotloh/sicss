{
 "cells": [
  {
   "cell_type": "markdown",
   "id": "2a286771",
   "metadata": {},
   "source": [
    "# LLM enhanced topic modelling\n",
    "\n",
    "This notebook demonstrates the impact of LLM-augmented topic modeling compared to a baseline (non-augmented) approach. The topic modeling pipeline follows a standard workflow: embedding text followed by clustering.\n",
    "\n",
    "In the LLM-augmented pipeline, we first summarize each message using a large language model (LLM). The generated summaries—intended to retain only the core meaning—are then passed through the embedding and clustering steps.\n",
    "\n",
    "In the baseline (non-augmented) pipeline, the original message text is passed directly into the topic modeling pipeline without any summarization.\n",
    "\n",
    "The key idea is that LLM-based summarization helps distill each message to its essential content, which in turn can produce more human-interpretable and coherent topic clusters.\n",
    "\n",
    "This notebook demonstrates the pipeline using a small sample dataset.\n",
    "\n",
    "Note: The summarization step is implemented in the notebook ``1.llm_workflow.ipynb\". Please refer to that file for details on how the summaries are generated."
   ]
  },
  {
   "cell_type": "code",
   "execution_count": 1,
   "id": "ba8b5012",
   "metadata": {},
   "outputs": [
    {
     "name": "stderr",
     "output_type": "stream",
     "text": [
      "/Users/bloh/Library/CloudStorage/OneDrive-ASTAR/Projects/sicss/sicss/lib/python3.10/site-packages/tqdm/auto.py:21: TqdmWarning: IProgress not found. Please update jupyter and ipywidgets. See https://ipywidgets.readthedocs.io/en/stable/user_install.html\n",
      "  from .autonotebook import tqdm as notebook_tqdm\n"
     ]
    }
   ],
   "source": [
    "from sentence_transformers import SentenceTransformer\n",
    "import umap\n",
    "from sklearn.cluster import HDBSCAN\n",
    "import pandas as pd\n",
    "from plotly.subplots import make_subplots\n",
    "import plotly.graph_objects as go"
   ]
  },
  {
   "cell_type": "markdown",
   "id": "0cec9180",
   "metadata": {},
   "source": [
    "## Load text and llm-generated summaries\n",
    "\n",
    "This section loads the raw text data and their corresponding LLM-generated summaries from text files. The raw texts represent the original input, while the summaries are distilled versions created using a large language model. These datasets will be used for embedding, clustering, and visualization in subsequent steps."
   ]
  },
  {
   "cell_type": "code",
   "execution_count": 2,
   "id": "7b92cf15",
   "metadata": {},
   "outputs": [],
   "source": [
    "with open('sample.txt', 'r', encoding='utf-8') as file:\n",
    "    texts = [line.strip() for line in file]\n",
    "\n",
    "with open('summaries.txt', 'r', encoding='utf-8') as file:\n",
    "    summaries = [line.strip() for line in file]"
   ]
  },
  {
   "cell_type": "code",
   "execution_count": 11,
   "id": "09d48e23",
   "metadata": {},
   "outputs": [
    {
     "data": {
      "text/plain": [
       "['My heart burns with an eternal flame for you!',\n",
       " 'You are the sun, the moon, and every star that ever shone!',\n",
       " 'I am hopelessly, wildly, gloriously in love with you!',\n",
       " 'Your name is etched upon the walls of my soul!',\n",
       " 'You have bewitched me, body and soul!',\n",
       " 'I would cross oceans of fire just to see you smile!',\n",
       " 'Every breath I take is a love letter to you!',\n",
       " 'You are my destiny, my downfall, my everything!',\n",
       " 'Without you, even the stars seem dim and lifeless!',\n",
       " 'My love for you defies time, space, and all reason!']"
      ]
     },
     "execution_count": 11,
     "metadata": {},
     "output_type": "execute_result"
    }
   ],
   "source": [
    "texts"
   ]
  },
  {
   "cell_type": "code",
   "execution_count": 10,
   "id": "b3e6f410",
   "metadata": {},
   "outputs": [
    {
     "data": {
      "text/plain": [
       "['Love/Obsession',\n",
       " 'Glory/Adoration',\n",
       " 'Love',\n",
       " 'Poetry/Romance',\n",
       " 'Love',\n",
       " 'Love',\n",
       " 'Love',\n",
       " 'Destiny',\n",
       " 'Adoration or appreciation for a person or relationship',\n",
       " 'Love']"
      ]
     },
     "execution_count": 10,
     "metadata": {},
     "output_type": "execute_result"
    }
   ],
   "source": [
    "summaries"
   ]
  },
  {
   "cell_type": "markdown",
   "id": "e9512a01",
   "metadata": {},
   "source": [
    "## Topic Modelling Worflow\n",
    "\n",
    "This section initializes the key components of the topic modeling workflow, including the embedding model and the clustering algorith \n",
    "These components will be used to process both the raw texts and LLM-generated summaries in subsequent steps.\n",
    "\n",
    "### initalise objects"
   ]
  },
  {
   "cell_type": "code",
   "execution_count": 3,
   "id": "de18ff4a",
   "metadata": {},
   "outputs": [],
   "source": [
    "model = SentenceTransformer('all-MiniLM-L6-v2')  # embed text\n",
    "clusterer = HDBSCAN(min_cluster_size=2, metric='euclidean') # cluster embeddings"
   ]
  },
  {
   "cell_type": "markdown",
   "id": "29fe2f1b",
   "metadata": {},
   "source": [
    "### Implement on raw text"
   ]
  },
  {
   "cell_type": "code",
   "execution_count": 4,
   "id": "2ed70189",
   "metadata": {},
   "outputs": [
    {
     "name": "stderr",
     "output_type": "stream",
     "text": [
      "Batches: 100%|██████████| 1/1 [00:01<00:00,  1.27s/it]\n"
     ]
    }
   ],
   "source": [
    "# Encode the raw texts into embeddings using the pre-trained SentenceTransformer model\n",
    "embeddings_text = model.encode(texts, show_progress_bar=True)\n",
    "\n",
    "# Perform clustering on the embeddings using HDBSCAN\n",
    "labels_text = clusterer.fit_predict(embeddings_text)\n"
   ]
  },
  {
   "cell_type": "markdown",
   "id": "6139845e",
   "metadata": {},
   "source": [
    "### Implement on LLM-generated summaries"
   ]
  },
  {
   "cell_type": "code",
   "execution_count": 5,
   "id": "b6e9a016",
   "metadata": {},
   "outputs": [
    {
     "name": "stderr",
     "output_type": "stream",
     "text": [
      "Batches: 100%|██████████| 1/1 [00:00<00:00,  2.84it/s]\n"
     ]
    }
   ],
   "source": [
    "embeddings_summaries = model.encode(summaries, show_progress_bar=True)\n",
    "labels_summaries = clusterer.fit_predict(embeddings_summaries)"
   ]
  },
  {
   "cell_type": "markdown",
   "id": "c7cc6c0f",
   "metadata": {},
   "source": [
    "## Visualise Results\n",
    "This section visualizes the clusters formed by the topic modeling pipeline. Two scatter plots are displayed side by side: one for the raw text and another for the LLM-generated summaries. Each point represents a text or summary, and its color indicates the cluster it belongs to."
   ]
  },
  {
   "cell_type": "code",
   "execution_count": 6,
   "id": "6e40b4b6",
   "metadata": {},
   "outputs": [],
   "source": [
    "reducer = umap.UMAP(n_neighbors=2, n_components=2, metric='cosine', random_state=42)  # project embeddings into 2d space for visualisation"
   ]
  },
  {
   "cell_type": "markdown",
   "id": "04efc4fb",
   "metadata": {},
   "source": [
    "### create visualistion for topic modelling with raw text"
   ]
  },
  {
   "cell_type": "code",
   "execution_count": null,
   "id": "3257b0fe",
   "metadata": {},
   "outputs": [
    {
     "name": "stderr",
     "output_type": "stream",
     "text": [
      "/Users/bloh/Library/CloudStorage/OneDrive-ASTAR/Projects/sicss/sicss/lib/python3.10/site-packages/umap/umap_.py:1952: UserWarning: n_jobs value 1 overridden to 1 by setting random_state. Use no seed for parallelism.\n",
      "  warn(\n"
     ]
    }
   ],
   "source": [
    "# Reduce the dimensionality of the text embeddings to 2D for visualization\n",
    "embedding_text_2d = reducer.fit_transform(embeddings_text)\n",
    "\n",
    "# Create a DataFrame to store the 2D embeddings, original text, and cluster labels\n",
    "df_text = pd.DataFrame({\n",
    "    'x': embedding_text_2d[:, 0],  # x-coordinate of the 2D embedding\n",
    "    'y': embedding_text_2d[:, 1],  # y-coordinate of the 2D embedding\n",
    "    'text': texts,                 # Original text\n",
    "    'cluster': labels_text         # Cluster labels assigned by HDBSCAN\n",
    "})\n",
    "\n",
    "# Create a scatter plot for the text embeddings\n",
    "scatter_text = go.Scatter(\n",
    "        x=df_text['x'],            # x-coordinates for the scatter plot\n",
    "        y=df_text['y'],            # y-coordinates for the scatter plot\n",
    "        mode='markers',            # Marker mode for the scatter plot\n",
    "        marker=dict(\n",
    "            size=6,                # Marker size\n",
    "            color=df_text['cluster'],  # Color based on cluster labels\n",
    "            colorscale='YlGnBu',       # Color scale for the clusters\n",
    "        ),\n",
    "        text=df_text['text'],      # Text to display on hover\n",
    "        hoverinfo='text'           # Display text on hover\n",
    "    )\n"
   ]
  },
  {
   "cell_type": "markdown",
   "id": "1f2770e7",
   "metadata": {},
   "source": [
    "### create visualistion for topic modelling with summaries"
   ]
  },
  {
   "cell_type": "code",
   "execution_count": 8,
   "id": "060606ee",
   "metadata": {},
   "outputs": [],
   "source": [
    "embedding_summaries_2d = reducer.fit_transform(embeddings_summaries)\n",
    "df_sum = pd.DataFrame({\n",
    "    'x': embedding_summaries_2d[:, 0],\n",
    "    'y': embedding_summaries_2d[:, 1],\n",
    "    'text': texts,\n",
    "    'cluster': labels_summaries\n",
    "})\n",
    "scatter_sum = go.Scatter(\n",
    "    x=df_sum['x'],\n",
    "    y=df_sum['y'],\n",
    "    mode='markers',\n",
    "    marker=dict(\n",
    "        size=6,\n",
    "        color=df_sum['cluster'],  \n",
    "        colorscale='YlGnBu',       \n",
    "    ),\n",
    "    text=df_sum['text'],             \n",
    "    hoverinfo='text'                  \n",
    "    )\n"
   ]
  },
  {
   "cell_type": "code",
   "execution_count": 12,
   "id": "65914a1d",
   "metadata": {},
   "outputs": [
    {
     "data": {
      "application/vnd.plotly.v1+json": {
       "config": {
        "plotlyServerURL": "https://plot.ly"
       },
       "data": [
        {
         "hoverinfo": "text",
         "marker": {
          "color": {
           "bdata": "AAECAAD/AgEBAg==",
           "dtype": "i1"
          },
          "colorscale": [
           [
            0,
            "rgb(255,255,217)"
           ],
           [
            0.125,
            "rgb(237,248,177)"
           ],
           [
            0.25,
            "rgb(199,233,180)"
           ],
           [
            0.375,
            "rgb(127,205,187)"
           ],
           [
            0.5,
            "rgb(65,182,196)"
           ],
           [
            0.625,
            "rgb(29,145,192)"
           ],
           [
            0.75,
            "rgb(34,94,168)"
           ],
           [
            0.875,
            "rgb(37,52,148)"
           ],
           [
            1,
            "rgb(8,29,88)"
           ]
          ],
          "size": 6
         },
         "mode": "markers",
         "text": [
          "My heart burns with an eternal flame for you!",
          "You are the sun, the moon, and every star that ever shone!",
          "I am hopelessly, wildly, gloriously in love with you!",
          "Your name is etched upon the walls of my soul!",
          "You have bewitched me, body and soul!",
          "I would cross oceans of fire just to see you smile!",
          "Every breath I take is a love letter to you!",
          "You are my destiny, my downfall, my everything!",
          "Without you, even the stars seem dim and lifeless!",
          "My love for you defies time, space, and all reason!"
         ],
         "type": "scatter",
         "x": {
          "bdata": "rhpfv2dC58Acak9BtLqXv/S0g7+Yvwq/qalLQSte78A+SdzAHPNFQQ==",
          "dtype": "f4"
         },
         "xaxis": "x",
         "y": {
          "bdata": "ekCFP1nOg0EZVYdBmJvOPju+Vj16brM/BjSJQQ7UhUEcEYFBFxKMQQ==",
          "dtype": "f4"
         },
         "yaxis": "y"
        },
        {
         "hoverinfo": "text",
         "marker": {
          "color": {
           "bdata": "AAEAAAAAAP8BAA==",
           "dtype": "i1"
          },
          "colorscale": [
           [
            0,
            "rgb(255,255,217)"
           ],
           [
            0.125,
            "rgb(237,248,177)"
           ],
           [
            0.25,
            "rgb(199,233,180)"
           ],
           [
            0.375,
            "rgb(127,205,187)"
           ],
           [
            0.5,
            "rgb(65,182,196)"
           ],
           [
            0.625,
            "rgb(29,145,192)"
           ],
           [
            0.75,
            "rgb(34,94,168)"
           ],
           [
            0.875,
            "rgb(37,52,148)"
           ],
           [
            1,
            "rgb(8,29,88)"
           ]
          ],
          "size": 6
         },
         "mode": "markers",
         "text": [
          "My heart burns with an eternal flame for you!",
          "You are the sun, the moon, and every star that ever shone!",
          "I am hopelessly, wildly, gloriously in love with you!",
          "Your name is etched upon the walls of my soul!",
          "You have bewitched me, body and soul!",
          "I would cross oceans of fire just to see you smile!",
          "Every breath I take is a love letter to you!",
          "You are my destiny, my downfall, my everything!",
          "Without you, even the stars seem dim and lifeless!",
          "My love for you defies time, space, and all reason!"
         ],
         "type": "scatter",
         "x": {
          "bdata": "LSkQQTlO9T4SnyBBJWAIQe2aJ0FXhytBMTosQfXtFUGH/jU/w4cgQQ==",
          "dtype": "f4"
         },
         "xaxis": "x2",
         "y": {
          "bdata": "XQjLP7VZHMAKHpg/0LfbP8M5lD1E1E4/vCLXvvjlNz8BfQ3AWR7UPg==",
          "dtype": "f4"
         },
         "yaxis": "y2"
        }
       ],
       "layout": {
        "annotations": [
         {
          "font": {
           "size": 16
          },
          "showarrow": false,
          "text": "raw text",
          "x": 0.225,
          "xanchor": "center",
          "xref": "paper",
          "y": 1,
          "yanchor": "bottom",
          "yref": "paper"
         },
         {
          "font": {
           "size": 16
          },
          "showarrow": false,
          "text": "summaries",
          "x": 0.775,
          "xanchor": "center",
          "xref": "paper",
          "y": 1,
          "yanchor": "bottom",
          "yref": "paper"
         }
        ],
        "template": {
         "data": {
          "bar": [
           {
            "error_x": {
             "color": "#2a3f5f"
            },
            "error_y": {
             "color": "#2a3f5f"
            },
            "marker": {
             "line": {
              "color": "#E5ECF6",
              "width": 0.5
             },
             "pattern": {
              "fillmode": "overlay",
              "size": 10,
              "solidity": 0.2
             }
            },
            "type": "bar"
           }
          ],
          "barpolar": [
           {
            "marker": {
             "line": {
              "color": "#E5ECF6",
              "width": 0.5
             },
             "pattern": {
              "fillmode": "overlay",
              "size": 10,
              "solidity": 0.2
             }
            },
            "type": "barpolar"
           }
          ],
          "carpet": [
           {
            "aaxis": {
             "endlinecolor": "#2a3f5f",
             "gridcolor": "white",
             "linecolor": "white",
             "minorgridcolor": "white",
             "startlinecolor": "#2a3f5f"
            },
            "baxis": {
             "endlinecolor": "#2a3f5f",
             "gridcolor": "white",
             "linecolor": "white",
             "minorgridcolor": "white",
             "startlinecolor": "#2a3f5f"
            },
            "type": "carpet"
           }
          ],
          "choropleth": [
           {
            "colorbar": {
             "outlinewidth": 0,
             "ticks": ""
            },
            "type": "choropleth"
           }
          ],
          "contour": [
           {
            "colorbar": {
             "outlinewidth": 0,
             "ticks": ""
            },
            "colorscale": [
             [
              0,
              "#0d0887"
             ],
             [
              0.1111111111111111,
              "#46039f"
             ],
             [
              0.2222222222222222,
              "#7201a8"
             ],
             [
              0.3333333333333333,
              "#9c179e"
             ],
             [
              0.4444444444444444,
              "#bd3786"
             ],
             [
              0.5555555555555556,
              "#d8576b"
             ],
             [
              0.6666666666666666,
              "#ed7953"
             ],
             [
              0.7777777777777778,
              "#fb9f3a"
             ],
             [
              0.8888888888888888,
              "#fdca26"
             ],
             [
              1,
              "#f0f921"
             ]
            ],
            "type": "contour"
           }
          ],
          "contourcarpet": [
           {
            "colorbar": {
             "outlinewidth": 0,
             "ticks": ""
            },
            "type": "contourcarpet"
           }
          ],
          "heatmap": [
           {
            "colorbar": {
             "outlinewidth": 0,
             "ticks": ""
            },
            "colorscale": [
             [
              0,
              "#0d0887"
             ],
             [
              0.1111111111111111,
              "#46039f"
             ],
             [
              0.2222222222222222,
              "#7201a8"
             ],
             [
              0.3333333333333333,
              "#9c179e"
             ],
             [
              0.4444444444444444,
              "#bd3786"
             ],
             [
              0.5555555555555556,
              "#d8576b"
             ],
             [
              0.6666666666666666,
              "#ed7953"
             ],
             [
              0.7777777777777778,
              "#fb9f3a"
             ],
             [
              0.8888888888888888,
              "#fdca26"
             ],
             [
              1,
              "#f0f921"
             ]
            ],
            "type": "heatmap"
           }
          ],
          "histogram": [
           {
            "marker": {
             "pattern": {
              "fillmode": "overlay",
              "size": 10,
              "solidity": 0.2
             }
            },
            "type": "histogram"
           }
          ],
          "histogram2d": [
           {
            "colorbar": {
             "outlinewidth": 0,
             "ticks": ""
            },
            "colorscale": [
             [
              0,
              "#0d0887"
             ],
             [
              0.1111111111111111,
              "#46039f"
             ],
             [
              0.2222222222222222,
              "#7201a8"
             ],
             [
              0.3333333333333333,
              "#9c179e"
             ],
             [
              0.4444444444444444,
              "#bd3786"
             ],
             [
              0.5555555555555556,
              "#d8576b"
             ],
             [
              0.6666666666666666,
              "#ed7953"
             ],
             [
              0.7777777777777778,
              "#fb9f3a"
             ],
             [
              0.8888888888888888,
              "#fdca26"
             ],
             [
              1,
              "#f0f921"
             ]
            ],
            "type": "histogram2d"
           }
          ],
          "histogram2dcontour": [
           {
            "colorbar": {
             "outlinewidth": 0,
             "ticks": ""
            },
            "colorscale": [
             [
              0,
              "#0d0887"
             ],
             [
              0.1111111111111111,
              "#46039f"
             ],
             [
              0.2222222222222222,
              "#7201a8"
             ],
             [
              0.3333333333333333,
              "#9c179e"
             ],
             [
              0.4444444444444444,
              "#bd3786"
             ],
             [
              0.5555555555555556,
              "#d8576b"
             ],
             [
              0.6666666666666666,
              "#ed7953"
             ],
             [
              0.7777777777777778,
              "#fb9f3a"
             ],
             [
              0.8888888888888888,
              "#fdca26"
             ],
             [
              1,
              "#f0f921"
             ]
            ],
            "type": "histogram2dcontour"
           }
          ],
          "mesh3d": [
           {
            "colorbar": {
             "outlinewidth": 0,
             "ticks": ""
            },
            "type": "mesh3d"
           }
          ],
          "parcoords": [
           {
            "line": {
             "colorbar": {
              "outlinewidth": 0,
              "ticks": ""
             }
            },
            "type": "parcoords"
           }
          ],
          "pie": [
           {
            "automargin": true,
            "type": "pie"
           }
          ],
          "scatter": [
           {
            "fillpattern": {
             "fillmode": "overlay",
             "size": 10,
             "solidity": 0.2
            },
            "type": "scatter"
           }
          ],
          "scatter3d": [
           {
            "line": {
             "colorbar": {
              "outlinewidth": 0,
              "ticks": ""
             }
            },
            "marker": {
             "colorbar": {
              "outlinewidth": 0,
              "ticks": ""
             }
            },
            "type": "scatter3d"
           }
          ],
          "scattercarpet": [
           {
            "marker": {
             "colorbar": {
              "outlinewidth": 0,
              "ticks": ""
             }
            },
            "type": "scattercarpet"
           }
          ],
          "scattergeo": [
           {
            "marker": {
             "colorbar": {
              "outlinewidth": 0,
              "ticks": ""
             }
            },
            "type": "scattergeo"
           }
          ],
          "scattergl": [
           {
            "marker": {
             "colorbar": {
              "outlinewidth": 0,
              "ticks": ""
             }
            },
            "type": "scattergl"
           }
          ],
          "scattermap": [
           {
            "marker": {
             "colorbar": {
              "outlinewidth": 0,
              "ticks": ""
             }
            },
            "type": "scattermap"
           }
          ],
          "scattermapbox": [
           {
            "marker": {
             "colorbar": {
              "outlinewidth": 0,
              "ticks": ""
             }
            },
            "type": "scattermapbox"
           }
          ],
          "scatterpolar": [
           {
            "marker": {
             "colorbar": {
              "outlinewidth": 0,
              "ticks": ""
             }
            },
            "type": "scatterpolar"
           }
          ],
          "scatterpolargl": [
           {
            "marker": {
             "colorbar": {
              "outlinewidth": 0,
              "ticks": ""
             }
            },
            "type": "scatterpolargl"
           }
          ],
          "scatterternary": [
           {
            "marker": {
             "colorbar": {
              "outlinewidth": 0,
              "ticks": ""
             }
            },
            "type": "scatterternary"
           }
          ],
          "surface": [
           {
            "colorbar": {
             "outlinewidth": 0,
             "ticks": ""
            },
            "colorscale": [
             [
              0,
              "#0d0887"
             ],
             [
              0.1111111111111111,
              "#46039f"
             ],
             [
              0.2222222222222222,
              "#7201a8"
             ],
             [
              0.3333333333333333,
              "#9c179e"
             ],
             [
              0.4444444444444444,
              "#bd3786"
             ],
             [
              0.5555555555555556,
              "#d8576b"
             ],
             [
              0.6666666666666666,
              "#ed7953"
             ],
             [
              0.7777777777777778,
              "#fb9f3a"
             ],
             [
              0.8888888888888888,
              "#fdca26"
             ],
             [
              1,
              "#f0f921"
             ]
            ],
            "type": "surface"
           }
          ],
          "table": [
           {
            "cells": {
             "fill": {
              "color": "#EBF0F8"
             },
             "line": {
              "color": "white"
             }
            },
            "header": {
             "fill": {
              "color": "#C8D4E3"
             },
             "line": {
              "color": "white"
             }
            },
            "type": "table"
           }
          ]
         },
         "layout": {
          "annotationdefaults": {
           "arrowcolor": "#2a3f5f",
           "arrowhead": 0,
           "arrowwidth": 1
          },
          "autotypenumbers": "strict",
          "coloraxis": {
           "colorbar": {
            "outlinewidth": 0,
            "ticks": ""
           }
          },
          "colorscale": {
           "diverging": [
            [
             0,
             "#8e0152"
            ],
            [
             0.1,
             "#c51b7d"
            ],
            [
             0.2,
             "#de77ae"
            ],
            [
             0.3,
             "#f1b6da"
            ],
            [
             0.4,
             "#fde0ef"
            ],
            [
             0.5,
             "#f7f7f7"
            ],
            [
             0.6,
             "#e6f5d0"
            ],
            [
             0.7,
             "#b8e186"
            ],
            [
             0.8,
             "#7fbc41"
            ],
            [
             0.9,
             "#4d9221"
            ],
            [
             1,
             "#276419"
            ]
           ],
           "sequential": [
            [
             0,
             "#0d0887"
            ],
            [
             0.1111111111111111,
             "#46039f"
            ],
            [
             0.2222222222222222,
             "#7201a8"
            ],
            [
             0.3333333333333333,
             "#9c179e"
            ],
            [
             0.4444444444444444,
             "#bd3786"
            ],
            [
             0.5555555555555556,
             "#d8576b"
            ],
            [
             0.6666666666666666,
             "#ed7953"
            ],
            [
             0.7777777777777778,
             "#fb9f3a"
            ],
            [
             0.8888888888888888,
             "#fdca26"
            ],
            [
             1,
             "#f0f921"
            ]
           ],
           "sequentialminus": [
            [
             0,
             "#0d0887"
            ],
            [
             0.1111111111111111,
             "#46039f"
            ],
            [
             0.2222222222222222,
             "#7201a8"
            ],
            [
             0.3333333333333333,
             "#9c179e"
            ],
            [
             0.4444444444444444,
             "#bd3786"
            ],
            [
             0.5555555555555556,
             "#d8576b"
            ],
            [
             0.6666666666666666,
             "#ed7953"
            ],
            [
             0.7777777777777778,
             "#fb9f3a"
            ],
            [
             0.8888888888888888,
             "#fdca26"
            ],
            [
             1,
             "#f0f921"
            ]
           ]
          },
          "colorway": [
           "#636efa",
           "#EF553B",
           "#00cc96",
           "#ab63fa",
           "#FFA15A",
           "#19d3f3",
           "#FF6692",
           "#B6E880",
           "#FF97FF",
           "#FECB52"
          ],
          "font": {
           "color": "#2a3f5f"
          },
          "geo": {
           "bgcolor": "white",
           "lakecolor": "white",
           "landcolor": "#E5ECF6",
           "showlakes": true,
           "showland": true,
           "subunitcolor": "white"
          },
          "hoverlabel": {
           "align": "left"
          },
          "hovermode": "closest",
          "mapbox": {
           "style": "light"
          },
          "paper_bgcolor": "white",
          "plot_bgcolor": "#E5ECF6",
          "polar": {
           "angularaxis": {
            "gridcolor": "white",
            "linecolor": "white",
            "ticks": ""
           },
           "bgcolor": "#E5ECF6",
           "radialaxis": {
            "gridcolor": "white",
            "linecolor": "white",
            "ticks": ""
           }
          },
          "scene": {
           "xaxis": {
            "backgroundcolor": "#E5ECF6",
            "gridcolor": "white",
            "gridwidth": 2,
            "linecolor": "white",
            "showbackground": true,
            "ticks": "",
            "zerolinecolor": "white"
           },
           "yaxis": {
            "backgroundcolor": "#E5ECF6",
            "gridcolor": "white",
            "gridwidth": 2,
            "linecolor": "white",
            "showbackground": true,
            "ticks": "",
            "zerolinecolor": "white"
           },
           "zaxis": {
            "backgroundcolor": "#E5ECF6",
            "gridcolor": "white",
            "gridwidth": 2,
            "linecolor": "white",
            "showbackground": true,
            "ticks": "",
            "zerolinecolor": "white"
           }
          },
          "shapedefaults": {
           "line": {
            "color": "#2a3f5f"
           }
          },
          "ternary": {
           "aaxis": {
            "gridcolor": "white",
            "linecolor": "white",
            "ticks": ""
           },
           "baxis": {
            "gridcolor": "white",
            "linecolor": "white",
            "ticks": ""
           },
           "bgcolor": "#E5ECF6",
           "caxis": {
            "gridcolor": "white",
            "linecolor": "white",
            "ticks": ""
           }
          },
          "title": {
           "x": 0.05
          },
          "xaxis": {
           "automargin": true,
           "gridcolor": "white",
           "linecolor": "white",
           "ticks": "",
           "title": {
            "standoff": 15
           },
           "zerolinecolor": "white",
           "zerolinewidth": 2
          },
          "yaxis": {
           "automargin": true,
           "gridcolor": "white",
           "linecolor": "white",
           "ticks": "",
           "title": {
            "standoff": 15
           },
           "zerolinecolor": "white",
           "zerolinewidth": 2
          }
         }
        },
        "xaxis": {
         "anchor": "y",
         "domain": [
          0,
          0.45
         ]
        },
        "xaxis2": {
         "anchor": "y2",
         "domain": [
          0.55,
          1
         ]
        },
        "yaxis": {
         "anchor": "x",
         "domain": [
          0,
          1
         ]
        },
        "yaxis2": {
         "anchor": "x2",
         "domain": [
          0,
          1
         ]
        }
       }
      }
     },
     "metadata": {},
     "output_type": "display_data"
    }
   ],
   "source": [
    "from plotly.subplots import make_subplots\n",
    "import plotly.graph_objects as go\n",
    "\n",
    "fig = make_subplots(rows=1, cols=2,subplot_titles=('raw text','summaries'))\n",
    "\n",
    "fig.add_trace(\n",
    "    scatter_text,\n",
    "    row=1, col=1\n",
    ")\n",
    "\n",
    "fig.add_trace(\n",
    "    scatter_sum,\n",
    "    row=1, col=2\n",
    ")"
   ]
  },
  {
   "cell_type": "code",
   "execution_count": null,
   "id": "44a2f6cf",
   "metadata": {},
   "outputs": [],
   "source": []
  }
 ],
 "metadata": {
  "kernelspec": {
   "display_name": "sicss",
   "language": "python",
   "name": "python3"
  },
  "language_info": {
   "codemirror_mode": {
    "name": "ipython",
    "version": 3
   },
   "file_extension": ".py",
   "mimetype": "text/x-python",
   "name": "python",
   "nbconvert_exporter": "python",
   "pygments_lexer": "ipython3",
   "version": "3.10.7"
  }
 },
 "nbformat": 4,
 "nbformat_minor": 5
}
